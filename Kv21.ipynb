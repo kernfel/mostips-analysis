{
 "cells": [
  {
   "cell_type": "markdown",
   "metadata": {},
   "source": [
    "# Kv 2.1 parameter extraction"
   ]
  },
  {
   "cell_type": "code",
   "execution_count": 1,
   "metadata": {},
   "outputs": [
    {
     "name": "stderr",
     "output_type": "stream",
     "text": [
      "/usr/lib64/python2.7/site-packages/matplotlib/cbook/deprecation.py:107: MatplotlibDeprecationWarning: The mpl_toolkits.axes_grid module was deprecated in version 2.1. Use mpl_toolkits.axes_grid1 and mpl_toolkits.axisartist provies the same functionality instead.\n",
      "  warnings.warn(message, mplDeprecation, stacklevel=1)\n"
     ]
    }
   ],
   "source": [
    "import matplotlib.pyplot as plt\n",
    "import numpy as np\n",
    "import scipy.optimize\n",
    "import stfio\n",
    "from analysis_helpers import *"
   ]
  },
  {
   "cell_type": "code",
   "execution_count": 2,
   "metadata": {},
   "outputs": [],
   "source": [
    "write = False\n",
    "paint = False\n",
    "filebase = '/home/kernfel/Documents/Data/Oocytes/2018_05_03_%04d.atf'\n",
    "fileno, fileno2, fileno3, targetno = 19,20,21,22\n",
    "factor = 1\n",
    "savebase = filebase[:-4] % fileno + '-' + str(fileno3 or fileno2)\n",
    "paramsfile = filebase[:-4] % targetno + '.params'\n",
    "params = dict()\n",
    "tres = 0.025 # Time of one sample in ms"
   ]
  },
  {
   "cell_type": "code",
   "execution_count": 3,
   "metadata": {},
   "outputs": [],
   "source": [
    "rec = read_2channel_ATF(filebase % fileno, current_factor = factor)\n",
    "rec2 = read_2channel_ATF(filebase % (fileno2), current_factor = factor)\n",
    "rec3 = read_2channel_ATF(filebase % (fileno3)) if fileno3 else None"
   ]
  },
  {
   "cell_type": "markdown",
   "metadata": {},
   "source": [
    "## Sanity checks"
   ]
  },
  {
   "cell_type": "markdown",
   "metadata": {},
   "source": [
    "To make sure we've got the right recordings, let's visualise the full trace stacks:"
   ]
  },
  {
   "cell_type": "code",
   "execution_count": 4,
   "metadata": {
    "scrolled": false
   },
   "outputs": [],
   "source": [
    "t = np.arange(len(rec.voltage[0])) * tres\n",
    "t2 = np.arange(len(rec2.voltage[0])) * tres\n",
    "t3 = np.arange(len(rec3.voltage[0])) * tres if rec3 else None\n",
    "\n",
    "def rawplot(ax, T, Y, ylabel=''):\n",
    "    for y in Y:\n",
    "        plt.plot(T, y)\n",
    "    plt.xlabel('Time [ms]')\n",
    "    plt.ylabel(ylabel)\n",
    "\n",
    "if paint:\n",
    "    fig = plt.figure(figsize=(15,10))\n",
    "    fig.suptitle('Voltage clamp families')\n",
    "\n",
    "    rawplot(plt.subplot(2,3,1), t, rec.voltage, 'Voltage [mV]')\n",
    "    rawplot(plt.subplot(2,3,2), t2, rec2.voltage)\n",
    "    if rec3: rawplot(plt.subplot(2,3,3), t3, rec3.voltage)\n",
    "\n",
    "    rawplot(plt.subplot(2,3,4), t, rec.current, u'Current [μA]')\n",
    "    rawplot(plt.subplot(2,3,5), t2, rec2.current)\n",
    "    if rec3: rawplot(plt.subplot(2,3,6), t3, rec3.current)\n",
    "\n",
    "    if write:\n",
    "        fig.savefig(savebase + '.family.png')"
   ]
  },
  {
   "cell_type": "markdown",
   "metadata": {},
   "source": [
    "Let's sanity check the step boundaries. The vertical lines should mark the exact beginning of the step and at least the end of the capacitive spike. Should the latter not coincide, the limits needs to be adjusted!"
   ]
  },
  {
   "cell_type": "code",
   "execution_count": 5,
   "metadata": {
    "scrolled": true
   },
   "outputs": [],
   "source": [
    "# The start and end of the step, with some room for the capacitive current to dissipate:\n",
    "rec_limits = (5200, 44800)\n",
    "\n",
    "# The true step time\n",
    "rec_step_t0 = 4937\n",
    "\n",
    "if paint:\n",
    "    plt.figure(figsize=(16,8))\n",
    "\n",
    "    plt.subplot(2,3,1)\n",
    "    for I in rec.current:\n",
    "        plt.plot(I[4000:6000])\n",
    "\n",
    "    plt.subplot(2,3,2)\n",
    "    for I in rec.current:\n",
    "        plt.plot(I[4927:4950])\n",
    "    plt.axvline(rec_step_t0 - 4927)\n",
    "\n",
    "    plt.subplot(2,3,3)\n",
    "    for I in rec.current:\n",
    "        plt.plot(I[rec_step_t0:rec_step_t0 + 5*(rec_limits[0]-rec_step_t0)])\n",
    "    plt.axvline(rec_limits[0] - rec_step_t0)\n",
    "\n",
    "    plt.subplot(2,1,2)\n",
    "    for I in rec.current:\n",
    "        plt.plot(I[rec_limits[0]:rec_limits[1]])"
   ]
  },
  {
   "cell_type": "code",
   "execution_count": 6,
   "metadata": {
    "scrolled": true
   },
   "outputs": [],
   "source": [
    "# The start and end of the step -- here, the first number is the true step time\n",
    "rec2_limits = (4750, 40000)\n",
    "\n",
    "# The cutoff for the tail current as used in the tail fitting procedure; this should mark the end of the capacitive spike\n",
    "rec2_cut, dummy = get_tail_cut(rec2, rec2_limits[0])\n",
    "\n",
    "if paint:\n",
    "    plt.figure(figsize=(16,8))\n",
    "\n",
    "    plt.subplot(2,3,1)\n",
    "    for I in rec2.current:\n",
    "        plt.plot(I[4000:6000])\n",
    "\n",
    "    plt.subplot(2,3,2)\n",
    "    for I in rec2.current:\n",
    "        plt.plot(I[4740:4780])\n",
    "    plt.axvline(rec2_limits[0] - 4740)\n",
    "\n",
    "    plt.subplot(2,3,3)\n",
    "    for I in rec2.current:\n",
    "        plt.plot(I[rec2_limits[0]:rec2_limits[0] + 4*(rec2_cut-rec2_limits[0])])\n",
    "    plt.axvline(rec2_cut-rec2_limits[0])\n",
    "    plt.ylim(-2,4)\n",
    "\n",
    "    plt.subplot(2,1,2)\n",
    "    for I in rec2.current:\n",
    "        plt.plot(I[rec2_cut:rec2_limits[1]])"
   ]
  },
  {
   "cell_type": "markdown",
   "metadata": {},
   "source": [
    "Finally, a sanity check for the third (capacitance) recording, showing a step down and the subsequent step up:"
   ]
  },
  {
   "cell_type": "code",
   "execution_count": 7,
   "metadata": {
    "scrolled": true
   },
   "outputs": [],
   "source": [
    "# Index of the first step\n",
    "rec3_offset = 322\n",
    "\n",
    "# Step spec\n",
    "rec3_stepdur = 2000\n",
    "rec3_nsteps = 9\n",
    "\n",
    "if rec3 and paint:\n",
    "    plt.figure(figsize=(16,4))\n",
    "    plt.subplot(1,3,1)\n",
    "    for V in rec3.voltage:\n",
    "        plt.plot(t3[300:350], V[300:350])\n",
    "        plt.plot(t3[300:350], V[300+rec3_stepdur:350+rec3_stepdur])\n",
    "    plt.axvline(t3[rec3_offset])\n",
    "\n",
    "    plt.subplot(1,3,2)\n",
    "    for I in rec3.current:\n",
    "        plt.plot(t3[300:350], I[300:350])\n",
    "        plt.plot(t3[300:350], I[300+rec3_stepdur:350+rec3_stepdur])\n",
    "    plt.axvline(t3[rec3_offset])\n",
    "\n",
    "    plt.subplot(1,3,3)\n",
    "    for V in rec3.voltage:\n",
    "        plt.plot(V[rec3_offset:rec3_offset+rec3_stepdur])\n",
    "        plt.plot(V[rec3_offset + (rec3_nsteps-1)*rec3_stepdur:rec3_offset + rec3_nsteps*rec3_stepdur])"
   ]
  },
  {
   "cell_type": "markdown",
   "metadata": {},
   "source": [
    "## Measurements"
   ]
  },
  {
   "cell_type": "markdown",
   "metadata": {},
   "source": [
    "### Leak current"
   ]
  },
  {
   "cell_type": "code",
   "execution_count": 8,
   "metadata": {
    "scrolled": true
   },
   "outputs": [],
   "source": [
    "if paint:\n",
    "    fig, ax = plt.subplots()\n",
    "else:\n",
    "    ax = None\n",
    "    \n",
    "fit_leak(rec, params, ax, rec_limits)\n",
    "\n",
    "if paint:\n",
    "    plt.title('Leak conductance fit and activation I-V')\n",
    "    if write:\n",
    "        plt.savefig(savebase + '.leak_IV.png')"
   ]
  },
  {
   "cell_type": "markdown",
   "metadata": {},
   "source": [
    "### Potassium current"
   ]
  },
  {
   "cell_type": "code",
   "execution_count": 9,
   "metadata": {},
   "outputs": [
    {
     "name": "stderr",
     "output_type": "stream",
     "text": [
      "analysis_helpers.py:100: RuntimeWarning: overflow encountered in exp\n",
      "  return p[0]*np.exp(-t/p[1]) + p[2]*np.exp(-t/p[3])\n",
      "analysis_helpers.py:100: RuntimeWarning: overflow encountered in multiply\n",
      "  return p[0]*np.exp(-t/p[1]) + p[2]*np.exp(-t/p[3])\n"
     ]
    }
   ],
   "source": [
    "fit_tails_exp2(rec2, rec2_limits[0], rec2_limits[1])\n",
    "\n",
    "if paint:\n",
    "    fig = plt.figure(figsize=(15, 5))\n",
    "\n",
    "    plt.subplot(1,2,1)\n",
    "    plot_tail_fit_exp2(rec2, params, rec2.tail_cut, 10000, tres, range(0, len(rec2.tails), 2))\n",
    "\n",
    "    plt.subplot(1,2,2)\n",
    "    plot_tail_fit_exp2(rec2, params, rec2_limits[0] - 20, 6000, tres, range(0, len(rec2.tails), 1))\n",
    "\n",
    "    fig.suptitle('Tail current fits')\n",
    "    if write:\n",
    "        fig.savefig(savebase + '.tail_fits.png')"
   ]
  },
  {
   "cell_type": "code",
   "execution_count": 10,
   "metadata": {},
   "outputs": [],
   "source": [
    "tail_t0 = [exp2_decay(0, rec2.pdecay[i]) for i in range(len(rec2.tails))]\n",
    "\n",
    "included = linear_exclude_outliers(rec2.tail_voltages, tail_t0)\n",
    "tail_I = np.array(tail_t0)[included]\n",
    "tail_V = np.array(rec2.tail_voltages)[included]\n",
    "\n",
    "# Fit to the positive current values only\n",
    "for i in range(len(tail_I)-1, 0, -1):\n",
    "    if tail_I[i] < 0:\n",
    "        tail_fit_from = i+1\n",
    "        break\n",
    "\n",
    "fit_IV(tail_I[tail_fit_from:], tail_V[tail_fit_from:], params, 'K')\n",
    "\n",
    "if paint:\n",
    "    fig, ax = plt.subplots()\n",
    "    IVplot(tail_I, tail_V, ax)\n",
    "\n",
    "    tail_plot_V = np.array([-90, -30])\n",
    "    ax.plot(tail_plot_V, params['I_K'](tail_plot_V))\n",
    "\n",
    "    ax.set_title('Potassium fit and tail current I-V')\n",
    "    if write:\n",
    "        plt.savefig(savebase + '.tail_IV.png')"
   ]
  },
  {
   "cell_type": "code",
   "execution_count": 11,
   "metadata": {},
   "outputs": [
    {
     "data": {
      "image/png": "[encoded data removed]",
      "text/plain": [
       "<Figure size 432x288 with 1 Axes>"
      ]
     },
     "metadata": {},
     "output_type": "display_data"
    }
   ],
   "source": [
    "fig, ax = plt.subplots()\n",
    "IVplot(tail_I, tail_V, ax)\n",
    "\n",
    "median_voltages = [np.median(V[rec_limits[0]:rec_limits[1]]) for V in rec.voltage]\n",
    "peak_currents = [np.max(I[rec_limits[0]:rec_limits[1]]) - params['I_leak'](V)\n",
    "                 for I,V in zip(rec.current, median_voltages)]\n",
    "IVplot(peak_currents, median_voltages, ax)\n",
    "\n",
    "params['g_K'] = 1.05*peak_currents[-1] / (median_voltages[-1] - params['E_K'])\n",
    "\n",
    "tail_plot_V = np.array([-90,60])\n",
    "ax.plot(tail_plot_V, params['I_K'](tail_plot_V))\n",
    "\n",
    "ax.set_title('Potassium max conductance')\n",
    "if paint and write:\n",
    "    plt.savefig(savebase + '.gK.png')"
   ]
  },
  {
   "cell_type": "markdown",
   "metadata": {},
   "source": [
    "### Capacitance"
   ]
  },
  {
   "cell_type": "code",
   "execution_count": 12,
   "metadata": {},
   "outputs": [],
   "source": [
    "if rec3:\n",
    "    params['C'] = fit_capacitance(rec3, tres, rec3_offset, rec3_stepdur, rec3_nsteps)\n",
    "else:\n",
    "    params['C'] = fit_capacitance_rec(rec, tres, rec_step_t0, rec3_stepdur)"
   ]
  },
  {
   "cell_type": "code",
   "execution_count": 13,
   "metadata": {},
   "outputs": [
    {
     "name": "stdout",
     "output_type": "stream",
     "text": [
      "gl:\t2.035259 μS\n",
      "El:\t-18.953572 mV\n",
      "gK:\t74.683587 μS\n",
      "EK:\t-69.977615 mV\n",
      "C:\t90.721847 nF\n"
     ]
    }
   ],
   "source": [
    "# RTDO accounts in mV, nA, μS and is not unit-aware\n",
    "params_rtdo = params.copy()\n",
    "params_rtdo['g_leak'] *= 1e3\n",
    "params_rtdo['g_K'] *= 1e3\n",
    "\n",
    "pstr = '\\\n",
    "gl:\\t%(g_leak)f μS\\n\\\n",
    "El:\\t%(E_leak)f mV\\n\\\n",
    "gK:\\t%(g_K)f μS\\n\\\n",
    "EK:\\t%(E_K)f mV\\n\\\n",
    "C:\\t%(C)f nF' % params_rtdo\n",
    "\n",
    "print pstr\n",
    "\n",
    "if write:\n",
    "    f = open(paramsfile, 'w')\n",
    "    f.write(pstr)\n",
    "    f.close()"
   ]
  },
  {
   "cell_type": "markdown",
   "metadata": {},
   "source": [
    "### Tail fit check: Trying to clean the traces first\n",
    "I thought removing the capacitance spike might help in figuring out what's going on with the tail fits, but the 10mV jump artifact clearly isn't representative of the spike at 100+ mV..."
   ]
  },
  {
   "cell_type": "code",
   "execution_count": 14,
   "metadata": {},
   "outputs": [],
   "source": [
    "tailtest = False\n",
    "if tailtest:\n",
    "    plt.figure(figsize=(16,8))\n",
    "    width = 200\n",
    "\n",
    "    noleak_tails = [I - np.median(I[-8000:]) for I in [c[rec2_limits[0]:rec2_limits[1]] for c in rec2.current]]\n",
    "\n",
    "    plt.subplot(4,1,1)\n",
    "    for I in noleak_tails:\n",
    "        plt.plot(I[:width])\n",
    "\n",
    "    cap_currents_leaky = [np.array(rec3.current[0][i:i+rec3_stepdur])\n",
    "                          for i in np.arange(rec3_nsteps)*rec3_stepdur + rec3_offset]\n",
    "    cap_currents = [I - np.median(I[rec3_stepdur*3/4]) for I in cap_currents_leaky]\n",
    "    cap_voltages = np.diff([np.median(rec3.voltage[0][:rec3_offset])] + \\\n",
    "                           [np.median(rec3.voltage[0][i:i+rec3_stepdur]) \n",
    "                            for i in np.arange(rec3_nsteps)*rec3_stepdur + rec3_offset])\n",
    "    cap_normcurrent = np.median([I/V for I,V in zip(cap_currents, cap_voltages)], axis=0)\n",
    "    plt.subplot(4,1,2)\n",
    "    plt.plot(cap_normcurrent[:width])\n",
    "\n",
    "    tail_Vstep = [np.median(V[rec2_limits[0]:rec2_limits[1]]) - np.median([VV for VV in V[:rec2_limits[0]] if VV>0])\n",
    "                  for V in rec2.voltage]\n",
    "    tail_Ipre = [np.median(I[rec2_limits[0]-50:rec2_limits[0]]) for I in rec2.current]\n",
    "    clean_tails = np.copy(noleak_tails)\n",
    "    for I,V,Ipre in zip(clean_tails, tail_Vstep, tail_Ipre):\n",
    "        I[:rec3_stepdur] -= np.clip(cap_normcurrent*V, -20-Ipre,20-Ipre)\n",
    "\n",
    "    plt.subplot(2,1,2)\n",
    "    tx = np.arange(width)*tres\n",
    "    for I in clean_tails:\n",
    "        plt.plot(tx, I[:width])\n",
    "\n",
    "    normcur_peak = np.argmax(cap_normcurrent)\n",
    "    cutoff = normcur_peak + np.sum(cap_normcurrent[normcur_peak:] > 0.05*cap_normcurrent[normcur_peak])\n",
    "    plt.axvline(cutoff*tres)\n",
    "\n",
    "    cut_tails = [I[cutoff:] - np.median(I[-8000:]) for I in clean_tails]\n",
    "    p = fit_exp2(cut_tails, np.arange(len(cut_tails[0])) + cutoff, min_tau = 10)\n",
    "\n",
    "    plt.gca().set_prop_cycle(None)\n",
    "    for pp in p:\n",
    "        plt.plot(tx, exp2_decay(np.arange(width), pp), linewidth=1)"
   ]
  },
  {
   "cell_type": "code",
   "execution_count": 15,
   "metadata": {},
   "outputs": [],
   "source": [
    "if tailtest:\n",
    "    tail_t0_alternative = [exp2_decay(0, pp) for pp in p]\n",
    "    tail_t0 = [exp2_decay(0, rec2.pdecay[i]) for i in range(len(rec2.tails))]\n",
    "\n",
    "    fig, ax = plt.subplots()\n",
    "    IVplot(tail_t0, rec2.tail_voltages, ax)\n",
    "    IVplot(tail_t0_alternative, rec2.tail_voltages, ax)"
   ]
  },
  {
   "cell_type": "markdown",
   "metadata": {},
   "source": [
    "### Finding the activation peak times for mixed recordings"
   ]
  },
  {
   "cell_type": "code",
   "execution_count": 16,
   "metadata": {},
   "outputs": [
    {
     "name": "stdout",
     "output_type": "stream",
     "text": [
      "t_peak [samples] = -386.960332 * V + 26923.448908\n"
     ]
    },
    {
     "data": {
      "image/png": "[encoded data removed]",
      "text/plain": [
       "<Figure size 432x288 with 1 Axes>"
      ]
     },
     "metadata": {},
     "output_type": "display_data"
    }
   ],
   "source": [
    "findpeaktimes = False\n",
    "if findpeaktimes:\n",
    "    median_voltages = [np.median(V[rec_limits[0]:rec_limits[1]]) for V in rec.voltage]\n",
    "    peak_currents = [np.max(I[rec_limits[0]:rec_limits[1]]) - params['I_leak'](V)\n",
    "                     for I,V in zip(rec.current, median_voltages)]\n",
    "    peak_current_t = [np.argmax(I[rec_limits[0]:rec_limits[1]]) + rec_limits[0]-rec_step_t0 for I in rec.current]\n",
    "    \n",
    "    # Use reliable peaks only\n",
    "    gmax = max(peak_currents)\n",
    "    for i in range(len(peak_currents)-1, 0, -1):\n",
    "        if peak_currents[i] < 0.1 * gmax:\n",
    "            time_fit_from = i+1\n",
    "            break\n",
    "    \n",
    "    fig, ax = plt.subplots()\n",
    "    IVplot(peak_current_t[time_fit_from:], median_voltages[time_fit_from:], ax,\n",
    "           Ilabel = 'Time after step (*%f ms)' % tres)\n",
    "    \n",
    "    # Since this APPROXIMATELY linear:\n",
    "    p = np.polyfit(median_voltages[time_fit_from:], peak_current_t[time_fit_from:], 1)\n",
    "    Vplot = np.array([0,60])\n",
    "    peaktime = lambda V: p[0]*V + p[1]\n",
    "    plt.plot(Vplot, peaktime(Vplot))\n",
    "    \n",
    "    print 't_peak [samples] = %f * V + %f' % (p[0], p[1])"
   ]
  },
  {
   "cell_type": "markdown",
   "metadata": {},
   "source": [
    "Solving the inverse problem like..."
   ]
  },
  {
   "cell_type": "code",
   "execution_count": 18,
   "metadata": {},
   "outputs": [
    {
     "name": "stdout",
     "output_type": "stream",
     "text": [
      "fraction of remaining current = 0.001807 * V + 0.039792\n"
     ]
    },
    {
     "data": {
      "image/png": "[encoded data removed]",
      "text/plain": [
       "<Figure size 432x288 with 1 Axes>"
      ]
     },
     "metadata": {},
     "output_type": "display_data"
    }
   ],
   "source": [
    "peaktest = False\n",
    "if peaktest:\n",
    "    # From Kv14, 2017_12_06_36-37, good enough for a rough approximation:\n",
    "    peaktimes = lambda V: 124.565668 * np.exp(-0.030378 * V) + 254.206984\n",
    "    remaining_fraction = [(I[rec_step_t0+int(peaktimes(V))] - params['I_leak'](V)) / peak\n",
    "                          for peak,I,V in zip(peak_currents, rec.current, median_voltages)\n",
    "                          if V > -20]\n",
    "    med_volt = median_voltages[-len(remaining_fraction):]\n",
    "    plt.plot(med_volt, remaining_fraction, '-*')\n",
    "    \n",
    "    p = np.polyfit(med_volt, remaining_fraction, 1)\n",
    "    \n",
    "    Vplot = np.arange(-20,60)\n",
    "    plt.plot(Vplot, Vplot*p[0] + p[1])\n",
    "    \n",
    "    # From the forward problem, the fraction of Kv1.4 current at Kv2.1 peaks:\n",
    "    plt.plot(Vplot, 0.000164 * np.exp(0.118269 * Vplot) + 0.014723)\n",
    "    \n",
    "    print 'fraction of remaining current = %f * V + %f' % (p[0], p[1])"
   ]
  },
  {
   "cell_type": "markdown",
   "metadata": {},
   "source": [
    "Comment on the above: Apart from possibly the highest step, estimating the Kv1.4 current first, at their peaks, is preferable and likely to yield a better estimate.\n",
    "\n",
    "On the other hand, I could attempt to use these rough fractional estimates to *calculate* the unpolluted maxima like so:\n",
    "\n",
    "$$peak_1 = I_1 + f_2 I_2$$\n",
    "$$peak_2 = I_2 + f_1 I_1$$\n",
    "\n",
    "$$I_1 = peak_1 - f_2 I_2$$\n",
    "$$I_2 = peak_2 - f_1 I_1 = peak_2 - f_1 peak_1 + f_1 f_2 I_2$$\n",
    "\n",
    "$$I_2 = \\frac{(peak_2 - f_1 peak_1)}{(1 - f_1 f_2)}$$\n",
    "and equivalently for $I_1$, where $peak_i$ are the observed current peaks, $f_i$ are the fractions of current $i$ remaining at the other peak, and $I_i$ are the estimated current maxima at their respective peaks."
   ]
  }
 ],
 "metadata": {
  "kernelspec": {
   "display_name": "Python 2",
   "language": "python",
   "name": "python2"
  },
  "language_info": {
   "codemirror_mode": {
    "name": "ipython",
    "version": 2
   },
   "file_extension": ".py",
   "mimetype": "text/x-python",
   "name": "python",
   "nbconvert_exporter": "python",
   "pygments_lexer": "ipython2",
   "version": "2.7.5"
  }
 },
 "nbformat": 4,
 "nbformat_minor": 2
}
